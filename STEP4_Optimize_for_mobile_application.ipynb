{
  "nbformat": 4,
  "nbformat_minor": 0,
  "metadata": {
    "colab": {
      "name": "STEP4 - Optimizing for mobile application.ipynb",
      "provenance": [],
      "collapsed_sections": [
        "1agSN2HzVouD",
        "2KQ6CJvqqlrO",
        "7HC5FY356YLV",
        "5ZFThqfdwQ-w",
        "JoyOPQvFwa8a",
        "gBJNO1F96ZII"
      ],
      "toc_visible": true
    },
    "kernelspec": {
      "name": "python3",
      "display_name": "Python 3"
    },
    "accelerator": "GPU"
  },
  "cells": [
    {
      "cell_type": "markdown",
      "metadata": {
        "id": "1agSN2HzVouD",
        "colab_type": "text"
      },
      "source": [
        "# Step 1: Mount Google Drive to Google Colab"
      ]
    },
    {
      "cell_type": "code",
      "metadata": {
        "id": "C1UhRd0K_bhX",
        "colab_type": "code",
        "outputId": "89494c28-672a-48f9-e830-8be708d5d361",
        "colab": {
          "base_uri": "https://localhost:8080/",
          "height": 121
        }
      },
      "source": [
        "from google.colab import drive\n",
        "drive.mount('/content/gdrive')"
      ],
      "execution_count": 0,
      "outputs": [
        {
          "output_type": "stream",
          "text": [
            "Go to this URL in a browser: https://accounts.google.com/o/oauth2/auth?client_id=947318989803-6bn6qk8qdgf4n4g3pfee6491hc0brc4i.apps.googleusercontent.com&redirect_uri=urn%3aietf%3awg%3aoauth%3a2.0%3aoob&response_type=code&scope=email%20https%3a%2f%2fwww.googleapis.com%2fauth%2fdocs.test%20https%3a%2f%2fwww.googleapis.com%2fauth%2fdrive%20https%3a%2f%2fwww.googleapis.com%2fauth%2fdrive.photos.readonly%20https%3a%2f%2fwww.googleapis.com%2fauth%2fpeopleapi.readonly\n",
            "\n",
            "Enter your authorization code:\n",
            "··········\n",
            "Mounted at /content/gdrive\n"
          ],
          "name": "stdout"
        }
      ]
    },
    {
      "cell_type": "markdown",
      "metadata": {
        "id": "l5iwt_uKWGN_",
        "colab_type": "text"
      },
      "source": [
        "### Re-mounting Google Drive"
      ]
    },
    {
      "cell_type": "markdown",
      "metadata": {
        "id": "NjHYoa_0lPiW",
        "colab_type": "text"
      },
      "source": [
        "If for some reasons, you have newly created folders on GDrive that you need to use on Colab, execute the following script."
      ]
    },
    {
      "cell_type": "code",
      "metadata": {
        "id": "3kn0e4EPPL1b",
        "colab_type": "code",
        "colab": {}
      },
      "source": [
        "# Execute if there are newly created folders on GDrive that you need to use here\n",
        "drive.mount(\"/content/gdrive\", force_remount=True)"
      ],
      "execution_count": 0,
      "outputs": []
    },
    {
      "cell_type": "markdown",
      "metadata": {
        "id": "2KQ6CJvqqlrO",
        "colab_type": "text"
      },
      "source": [
        "# Step 2: Upload Required File to Google Colab"
      ]
    },
    {
      "cell_type": "markdown",
      "metadata": {
        "id": "DW9klbFeqpGI",
        "colab_type": "text"
      },
      "source": [
        "Use the UPLOAD function in the left panel to upload the following files:\n",
        "\n",
        "\n",
        "\n",
        "*   label_image.py\n",
        "\n",
        "\n"
      ]
    },
    {
      "cell_type": "markdown",
      "metadata": {
        "id": "7HC5FY356YLV",
        "colab_type": "text"
      },
      "source": [
        "# Step 3: Optimization"
      ]
    },
    {
      "cell_type": "markdown",
      "metadata": {
        "id": "cI6nQIWET-DG",
        "colab_type": "text"
      },
      "source": [
        "One way the TensorFlow library is kept small for mobile devices is to only support a subset of operations that are commonly used during inference."
      ]
    },
    {
      "cell_type": "markdown",
      "metadata": {
        "id": "pVuV4AVf5x_1",
        "colab_type": "text"
      },
      "source": [
        "\n",
        "Optimization removes all nodes that are *not* needed for a given set of inputs and outputs.\n",
        "\n",
        "Reference: https://codelabs.developers.google.com/codelabs/tensorflow-for-poets-2/index.html#3 "
      ]
    },
    {
      "cell_type": "markdown",
      "metadata": {
        "id": "5ZFThqfdwQ-w",
        "colab_type": "text"
      },
      "source": [
        "## Step 3a: Understanding the parameters (optional)\n",
        "\n",
        "Execute this script to see what parameters can be set for this script."
      ]
    },
    {
      "cell_type": "code",
      "metadata": {
        "id": "mnruSb6O6d0w",
        "colab_type": "code",
        "outputId": "3efccbd0-8582-48ca-da25-555b74dc0d39",
        "colab": {
          "base_uri": "https://localhost:8080/",
          "height": 420
        }
      },
      "source": [
        "!python -m tensorflow.python.tools.optimize_for_inference -h"
      ],
      "execution_count": 0,
      "outputs": [
        {
          "output_type": "stream",
          "text": [
            "usage: optimize_for_inference.py [-h] [--input INPUT] [--output OUTPUT]\n",
            "                                 [--input_names INPUT_NAMES]\n",
            "                                 [--output_names OUTPUT_NAMES]\n",
            "                                 [--frozen_graph [FROZEN_GRAPH]]\n",
            "                                 [--placeholder_type_enum PLACEHOLDER_TYPE_ENUM]\n",
            "                                 [--toco_compatible TOCO_COMPATIBLE]\n",
            "\n",
            "optional arguments:\n",
            "  -h, --help            show this help message and exit\n",
            "  --input INPUT         TensorFlow 'GraphDef' file to load.\n",
            "  --output OUTPUT       File to save the output graph to.\n",
            "  --input_names INPUT_NAMES\n",
            "                        Input node names, comma separated.\n",
            "  --output_names OUTPUT_NAMES\n",
            "                        Output node names, comma separated.\n",
            "  --frozen_graph [FROZEN_GRAPH]\n",
            "                        If true, the input graph is a binary frozen GraphDef\n",
            "                        file; if false, it is a text GraphDef proto file.\n",
            "  --placeholder_type_enum PLACEHOLDER_TYPE_ENUM\n",
            "                        The AttrValue enum to use for placeholders. Or a comma\n",
            "                        separated list, one value for each placeholder.\n",
            "  --toco_compatible TOCO_COMPATIBLE\n",
            "                        If true, only use ops compatible with Tensorflow Lite\n",
            "                        Optimizing Converter.\n"
          ],
          "name": "stdout"
        }
      ]
    },
    {
      "cell_type": "markdown",
      "metadata": {
        "id": "JoyOPQvFwa8a",
        "colab_type": "text"
      },
      "source": [
        "## Step 3b: Execute the script\n",
        "\n",
        "Execute this script to optimize our model."
      ]
    },
    {
      "cell_type": "code",
      "metadata": {
        "id": "ZhYUm-qm5qU7",
        "colab_type": "code",
        "outputId": "65e88942-bb79-455d-edb5-5beb1ce77694",
        "colab": {
          "base_uri": "https://localhost:8080/",
          "height": 238
        }
      },
      "source": [
        "!python -m tensorflow.python.tools.optimize_for_inference \\\n",
        "--input=gdrive/My\\ Drive/Project/logs/retrained_graph.pb \\\n",
        "--output=gdrive/My\\ Drive/Project/logs/optimized_graph.pb \\\n",
        "--input_names=\"input\" \\\n",
        "--output_names=\"final_result\""
      ],
      "execution_count": 0,
      "outputs": [
        {
          "output_type": "stream",
          "text": [
            "WARNING:tensorflow:From /usr/local/lib/python3.6/dist-packages/tensorflow_core/python/tools/strip_unused_lib.py:88: extract_sub_graph (from tensorflow.python.framework.graph_util_impl) is deprecated and will be removed in a future version.\n",
            "Instructions for updating:\n",
            "Use `tf.compat.v1.graph_util.extract_sub_graph`\n",
            "W0220 13:19:31.057724 140438031484800 deprecation.py:323] From /usr/local/lib/python3.6/dist-packages/tensorflow_core/python/tools/strip_unused_lib.py:88: extract_sub_graph (from tensorflow.python.framework.graph_util_impl) is deprecated and will be removed in a future version.\n",
            "Instructions for updating:\n",
            "Use `tf.compat.v1.graph_util.extract_sub_graph`\n",
            "WARNING:tensorflow:From /usr/local/lib/python3.6/dist-packages/tensorflow_core/python/tools/optimize_for_inference_lib.py:113: remove_training_nodes (from tensorflow.python.framework.graph_util_impl) is deprecated and will be removed in a future version.\n",
            "Instructions for updating:\n",
            "Use `tf.compat.v1.graph_util.remove_training_nodes`\n",
            "W0220 13:19:31.070469 140438031484800 deprecation.py:323] From /usr/local/lib/python3.6/dist-packages/tensorflow_core/python/tools/optimize_for_inference_lib.py:113: remove_training_nodes (from tensorflow.python.framework.graph_util_impl) is deprecated and will be removed in a future version.\n",
            "Instructions for updating:\n",
            "Use `tf.compat.v1.graph_util.remove_training_nodes`\n"
          ],
          "name": "stdout"
        }
      ]
    },
    {
      "cell_type": "markdown",
      "metadata": {
        "id": "gBJNO1F96ZII",
        "colab_type": "text"
      },
      "source": [
        "## Step 3c: Verification\n",
        "\n",
        "After optimization has been performed, verify that the optimized model still works as expected."
      ]
    },
    {
      "cell_type": "code",
      "metadata": {
        "id": "3HqYhFhO6KFz",
        "colab_type": "code",
        "outputId": "ad53f2c3-d2fd-4702-bb16-6e71fd1451b1",
        "colab": {
          "base_uri": "https://localhost:8080/",
          "height": 1000
        }
      },
      "source": [
        "!python -m label_image \\\n",
        "--graph=gdrive/My\\ Drive/Project/logs/optimized_graph.pb \\\n",
        "--image=/content/gdrive/My\\ Drive/Project/KYG/Test/20200216_202508.jpg \\\n",
        "--input_layer=input \\\n",
        "--input_height=224 \\\n",
        "--input_width=224 \\\n",
        "--labels=gdrive/My\\ Drive/Project/logs/retrained_labels.txt\n"
      ],
      "execution_count": 0,
      "outputs": [
        {
          "output_type": "stream",
          "text": [
            "WARNING:tensorflow:From /content/label_image.py:29: The name tf.GraphDef is deprecated. Please use tf.compat.v1.GraphDef instead.\n",
            "\n",
            "WARNING:tensorflow:From /content/label_image.py:42: The name tf.read_file is deprecated. Please use tf.io.read_file instead.\n",
            "\n",
            "WARNING:tensorflow:From /content/label_image.py:56: The name tf.image.resize_bilinear is deprecated. Please use tf.compat.v1.image.resize_bilinear instead.\n",
            "\n",
            "WARNING:tensorflow:From /content/label_image.py:58: The name tf.Session is deprecated. Please use tf.compat.v1.Session instead.\n",
            "\n",
            "2020-02-20 13:20:13.003368: I tensorflow/stream_executor/platform/default/dso_loader.cc:44] Successfully opened dynamic library libcuda.so.1\n",
            "2020-02-20 13:20:13.065006: I tensorflow/stream_executor/cuda/cuda_gpu_executor.cc:983] successful NUMA node read from SysFS had negative value (-1), but there must be at least one NUMA node, so returning NUMA node zero\n",
            "2020-02-20 13:20:13.065672: I tensorflow/core/common_runtime/gpu/gpu_device.cc:1618] Found device 0 with properties: \n",
            "name: Tesla T4 major: 7 minor: 5 memoryClockRate(GHz): 1.59\n",
            "pciBusID: 0000:00:04.0\n",
            "2020-02-20 13:20:13.082023: I tensorflow/stream_executor/platform/default/dso_loader.cc:44] Successfully opened dynamic library libcudart.so.10.1\n",
            "2020-02-20 13:20:13.323358: I tensorflow/stream_executor/platform/default/dso_loader.cc:44] Successfully opened dynamic library libcublas.so.10\n",
            "2020-02-20 13:20:13.455339: I tensorflow/stream_executor/platform/default/dso_loader.cc:44] Successfully opened dynamic library libcufft.so.10\n",
            "2020-02-20 13:20:13.480097: I tensorflow/stream_executor/platform/default/dso_loader.cc:44] Successfully opened dynamic library libcurand.so.10\n",
            "2020-02-20 13:20:13.753002: I tensorflow/stream_executor/platform/default/dso_loader.cc:44] Successfully opened dynamic library libcusolver.so.10\n",
            "2020-02-20 13:20:13.780004: I tensorflow/stream_executor/platform/default/dso_loader.cc:44] Successfully opened dynamic library libcusparse.so.10\n",
            "2020-02-20 13:20:14.284289: I tensorflow/stream_executor/platform/default/dso_loader.cc:44] Successfully opened dynamic library libcudnn.so.7\n",
            "2020-02-20 13:20:14.284481: I tensorflow/stream_executor/cuda/cuda_gpu_executor.cc:983] successful NUMA node read from SysFS had negative value (-1), but there must be at least one NUMA node, so returning NUMA node zero\n",
            "2020-02-20 13:20:14.285192: I tensorflow/stream_executor/cuda/cuda_gpu_executor.cc:983] successful NUMA node read from SysFS had negative value (-1), but there must be at least one NUMA node, so returning NUMA node zero\n",
            "2020-02-20 13:20:14.285738: I tensorflow/core/common_runtime/gpu/gpu_device.cc:1746] Adding visible gpu devices: 0\n",
            "2020-02-20 13:20:14.300893: I tensorflow/core/platform/profile_utils/cpu_utils.cc:94] CPU Frequency: 2300000000 Hz\n",
            "2020-02-20 13:20:14.302934: I tensorflow/compiler/xla/service/service.cc:168] XLA service 0x2d56bc0 initialized for platform Host (this does not guarantee that XLA will be used). Devices:\n",
            "2020-02-20 13:20:14.302972: I tensorflow/compiler/xla/service/service.cc:176]   StreamExecutor device (0): Host, Default Version\n",
            "2020-02-20 13:20:14.444466: I tensorflow/stream_executor/cuda/cuda_gpu_executor.cc:983] successful NUMA node read from SysFS had negative value (-1), but there must be at least one NUMA node, so returning NUMA node zero\n",
            "2020-02-20 13:20:14.445157: I tensorflow/compiler/xla/service/service.cc:168] XLA service 0x2d56d80 initialized for platform CUDA (this does not guarantee that XLA will be used). Devices:\n",
            "2020-02-20 13:20:14.445192: I tensorflow/compiler/xla/service/service.cc:176]   StreamExecutor device (0): Tesla T4, Compute Capability 7.5\n",
            "2020-02-20 13:20:14.446362: I tensorflow/stream_executor/cuda/cuda_gpu_executor.cc:983] successful NUMA node read from SysFS had negative value (-1), but there must be at least one NUMA node, so returning NUMA node zero\n",
            "2020-02-20 13:20:14.446961: I tensorflow/core/common_runtime/gpu/gpu_device.cc:1618] Found device 0 with properties: \n",
            "name: Tesla T4 major: 7 minor: 5 memoryClockRate(GHz): 1.59\n",
            "pciBusID: 0000:00:04.0\n",
            "2020-02-20 13:20:14.447017: I tensorflow/stream_executor/platform/default/dso_loader.cc:44] Successfully opened dynamic library libcudart.so.10.1\n",
            "2020-02-20 13:20:14.447033: I tensorflow/stream_executor/platform/default/dso_loader.cc:44] Successfully opened dynamic library libcublas.so.10\n",
            "2020-02-20 13:20:14.447048: I tensorflow/stream_executor/platform/default/dso_loader.cc:44] Successfully opened dynamic library libcufft.so.10\n",
            "2020-02-20 13:20:14.447062: I tensorflow/stream_executor/platform/default/dso_loader.cc:44] Successfully opened dynamic library libcurand.so.10\n",
            "2020-02-20 13:20:14.447075: I tensorflow/stream_executor/platform/default/dso_loader.cc:44] Successfully opened dynamic library libcusolver.so.10\n",
            "2020-02-20 13:20:14.447089: I tensorflow/stream_executor/platform/default/dso_loader.cc:44] Successfully opened dynamic library libcusparse.so.10\n",
            "2020-02-20 13:20:14.447105: I tensorflow/stream_executor/platform/default/dso_loader.cc:44] Successfully opened dynamic library libcudnn.so.7\n",
            "2020-02-20 13:20:14.447203: I tensorflow/stream_executor/cuda/cuda_gpu_executor.cc:983] successful NUMA node read from SysFS had negative value (-1), but there must be at least one NUMA node, so returning NUMA node zero\n",
            "2020-02-20 13:20:14.447811: I tensorflow/stream_executor/cuda/cuda_gpu_executor.cc:983] successful NUMA node read from SysFS had negative value (-1), but there must be at least one NUMA node, so returning NUMA node zero\n",
            "2020-02-20 13:20:14.448343: I tensorflow/core/common_runtime/gpu/gpu_device.cc:1746] Adding visible gpu devices: 0\n",
            "2020-02-20 13:20:14.452493: I tensorflow/stream_executor/platform/default/dso_loader.cc:44] Successfully opened dynamic library libcudart.so.10.1\n",
            "2020-02-20 13:20:14.453633: I tensorflow/core/common_runtime/gpu/gpu_device.cc:1159] Device interconnect StreamExecutor with strength 1 edge matrix:\n",
            "2020-02-20 13:20:14.453663: I tensorflow/core/common_runtime/gpu/gpu_device.cc:1165]      0 \n",
            "2020-02-20 13:20:14.453673: I tensorflow/core/common_runtime/gpu/gpu_device.cc:1178] 0:   N \n",
            "2020-02-20 13:20:14.454956: I tensorflow/stream_executor/cuda/cuda_gpu_executor.cc:983] successful NUMA node read from SysFS had negative value (-1), but there must be at least one NUMA node, so returning NUMA node zero\n",
            "2020-02-20 13:20:14.455542: I tensorflow/stream_executor/cuda/cuda_gpu_executor.cc:983] successful NUMA node read from SysFS had negative value (-1), but there must be at least one NUMA node, so returning NUMA node zero\n",
            "2020-02-20 13:20:14.456052: W tensorflow/core/common_runtime/gpu/gpu_bfc_allocator.cc:39] Overriding allow_growth setting because the TF_FORCE_GPU_ALLOW_GROWTH environment variable is set. Original config value was 0.\n",
            "2020-02-20 13:20:14.456086: I tensorflow/core/common_runtime/gpu/gpu_device.cc:1304] Created TensorFlow device (/job:localhost/replica:0/task:0/device:GPU:0 with 14221 MB memory) -> physical GPU (device: 0, name: Tesla T4, pci bus id: 0000:00:04.0, compute capability: 7.5)\n",
            "2020-02-20 13:20:21.859214: I tensorflow/stream_executor/cuda/cuda_gpu_executor.cc:983] successful NUMA node read from SysFS had negative value (-1), but there must be at least one NUMA node, so returning NUMA node zero\n",
            "2020-02-20 13:20:21.859843: I tensorflow/core/common_runtime/gpu/gpu_device.cc:1618] Found device 0 with properties: \n",
            "name: Tesla T4 major: 7 minor: 5 memoryClockRate(GHz): 1.59\n",
            "pciBusID: 0000:00:04.0\n",
            "2020-02-20 13:20:21.859931: I tensorflow/stream_executor/platform/default/dso_loader.cc:44] Successfully opened dynamic library libcudart.so.10.1\n",
            "2020-02-20 13:20:21.859956: I tensorflow/stream_executor/platform/default/dso_loader.cc:44] Successfully opened dynamic library libcublas.so.10\n",
            "2020-02-20 13:20:21.859974: I tensorflow/stream_executor/platform/default/dso_loader.cc:44] Successfully opened dynamic library libcufft.so.10\n",
            "2020-02-20 13:20:21.859994: I tensorflow/stream_executor/platform/default/dso_loader.cc:44] Successfully opened dynamic library libcurand.so.10\n",
            "2020-02-20 13:20:21.860013: I tensorflow/stream_executor/platform/default/dso_loader.cc:44] Successfully opened dynamic library libcusolver.so.10\n",
            "2020-02-20 13:20:21.860032: I tensorflow/stream_executor/platform/default/dso_loader.cc:44] Successfully opened dynamic library libcusparse.so.10\n",
            "2020-02-20 13:20:21.860051: I tensorflow/stream_executor/platform/default/dso_loader.cc:44] Successfully opened dynamic library libcudnn.so.7\n",
            "2020-02-20 13:20:21.860150: I tensorflow/stream_executor/cuda/cuda_gpu_executor.cc:983] successful NUMA node read from SysFS had negative value (-1), but there must be at least one NUMA node, so returning NUMA node zero\n",
            "2020-02-20 13:20:21.860795: I tensorflow/stream_executor/cuda/cuda_gpu_executor.cc:983] successful NUMA node read from SysFS had negative value (-1), but there must be at least one NUMA node, so returning NUMA node zero\n",
            "2020-02-20 13:20:21.861386: I tensorflow/core/common_runtime/gpu/gpu_device.cc:1746] Adding visible gpu devices: 0\n",
            "2020-02-20 13:20:21.861431: I tensorflow/core/common_runtime/gpu/gpu_device.cc:1159] Device interconnect StreamExecutor with strength 1 edge matrix:\n",
            "2020-02-20 13:20:21.861456: I tensorflow/core/common_runtime/gpu/gpu_device.cc:1165]      0 \n",
            "2020-02-20 13:20:21.861467: I tensorflow/core/common_runtime/gpu/gpu_device.cc:1178] 0:   N \n",
            "2020-02-20 13:20:21.861577: I tensorflow/stream_executor/cuda/cuda_gpu_executor.cc:983] successful NUMA node read from SysFS had negative value (-1), but there must be at least one NUMA node, so returning NUMA node zero\n",
            "2020-02-20 13:20:21.862208: I tensorflow/stream_executor/cuda/cuda_gpu_executor.cc:983] successful NUMA node read from SysFS had negative value (-1), but there must be at least one NUMA node, so returning NUMA node zero\n",
            "2020-02-20 13:20:21.862764: I tensorflow/core/common_runtime/gpu/gpu_device.cc:1304] Created TensorFlow device (/job:localhost/replica:0/task:0/device:GPU:0 with 14221 MB memory) -> physical GPU (device: 0, name: Tesla T4, pci bus id: 0000:00:04.0, compute capability: 7.5)\n",
            "2020-02-20 13:20:22.269913: I tensorflow/stream_executor/platform/default/dso_loader.cc:44] Successfully opened dynamic library libcublas.so.10\n",
            "2020-02-20 13:20:23.650808: I tensorflow/stream_executor/platform/default/dso_loader.cc:44] Successfully opened dynamic library libcudnn.so.7\n",
            "WARNING:tensorflow:From /content/label_image.py:65: The name tf.gfile.GFile is deprecated. Please use tf.io.gfile.GFile instead.\n",
            "\n",
            "\n",
            "Evaluation time (1-image): 7.358s\n",
            "\n",
            "xiao bai cai (score=1.00000)\n",
            "spinach (score=0.00000)\n",
            "broccoli (score=0.00000)\n",
            "beijing cabbage (score=0.00000)\n",
            "leeks (score=0.00000)\n"
          ],
          "name": "stdout"
        }
      ]
    }
  ]
}